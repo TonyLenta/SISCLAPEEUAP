{
 "cells": [
  {
   "cell_type": "code",
   "execution_count": 1,
   "metadata": {
    "scrolled": true
   },
   "outputs": [
    {
     "output_type": "stream",
     "name": "stdout",
     "text": [
      "pred: Black-winged hatchetfish\n"
     ]
    },
    {
     "output_type": "execute_result",
     "data": {
      "text/plain": [
       "1"
      ]
     },
     "metadata": {},
     "execution_count": 1
    }
   ],
   "source": [
    "#Procesa las imagenes para identificar las clses\n",
    "import numpy as np\n",
    "from keras.preprocessing.image import load_img, img_to_array\n",
    "from keras.models import load_model\n",
    "\n",
    "longitud, altura = 150, 150 #para estanderizar el tamano\n",
    "modelo = './modelo/modelo.h5' \n",
    "pesos_modelo = './modelo/pesos.h5'\n",
    "cnn = load_model(modelo)  # Carga el modelo del directorio \n",
    "cnn.load_weights(pesos_modelo) #Carga los pesos del modelo \n",
    "\n",
    "\n",
    "#Funcion para identificar el animal devolviendo su nombre\n",
    "def predict(file):\n",
    "  x = load_img(file, target_size=(longitud, altura)) #Carga imagen\n",
    "  x = img_to_array(x) # Convierte la imagen en un arreglo\n",
    "  x = np.expand_dims(x, axis=0) #Agrega una  dimensino al arreglo para procesar la informacion\n",
    "  array = cnn.predict(x) #Dos dimenciones [1,0,0]LLama a la red para predicir la imagen\n",
    "  result = array[0] #Dimension cero que contiene los nombres\n",
    "  answer = np.argmax(result) #Trae el indice del valor mas alto de resultado\n",
    "  if answer == 0:\n",
    "    print(\"pred: bala\")\n",
    "  elif answer == 1:\n",
    "    print(\"pred: Black-winged hatchetfish\")\n",
    "  elif answer == 2:\n",
    "    print(\"pred: blood-red jewel cichild\")\n",
    "  elif answer == 3:\n",
    "    print(\"pred: blue zebra angelfish\")\n",
    "  elif answer == 4:\n",
    "    print(\"pred: bolivian ram\")\n",
    "  elif answer == 5:\n",
    "    print(\"pred: botia striata fish\")\n",
    "  elif answer == 6:\n",
    "    print(\"pred: Bristlenose_catfish\")\n",
    "  elif answer == 7:\n",
    "    print(\"pred: celestial eye goldfish\")\n",
    "  elif answer == 8:\n",
    "    print(\"pred: clown\")\n",
    "  elif answer == 9:\n",
    "    print(\"pred: clown loach\")\n",
    "  elif answer == 10:\n",
    "    print(\"pred: damsel fish\")\n",
    "  elif answer == 11:\n",
    "    print(\"pred: Electric blue cichild\")\n",
    "  elif answer == 12:\n",
    "    print(\"pred: Electric_fish\")\n",
    "  elif answer == 13:\n",
    "    print(\"pred: figure eight puffer\")\n",
    "  elif answer == 14:\n",
    "    print(\"pred: Flowerhorn cichlid\")\n",
    "  elif answer == 15:\n",
    "    print(\"Gold\")\n",
    "  elif answer == 16:\n",
    "    print(\"Guppy\")\n",
    "  elif answer == 17:\n",
    "    print(\"lion\")\n",
    "  elif answer == 18:\n",
    "    print(\"neon goby\")\n",
    "  elif answer == 19:\n",
    "    print(\"neon tetra\")\n",
    "  elif answer == 20:\n",
    "    print(\"Ocellate river stingray\")\n",
    "  elif answer == 21:\n",
    "    print(\"Oscar Fish\")\n",
    "  elif answer == 22:\n",
    "    print(\"Paradise Fish\")\n",
    "  elif answer == 23:\n",
    "    print(\"Powder_blue_fish\")\n",
    "  elif answer == 24:\n",
    "    print(\"Red_tail_black_shark\")\n",
    "  elif answer == 25:\n",
    "    print(\"Sea Horse Fish\")\n",
    "  elif answer == 26:\n",
    "    print(\"symphysodon discus\")\n",
    "  elif answer == 27:\n",
    "    print(\"Thalassoma_bifasciatum\")\n",
    "  elif answer == 28:\n",
    "    print(\"Yellow Tang\")\n",
    "  elif answer == 29:\n",
    "    print(\"zebra danio fish\")\n",
    "\n",
    "  return answer\n",
    "\n",
    "\n",
    "predict('Ancistrus (Fredy Nugra).jpg')\n"
   ]
  },
  {
   "cell_type": "code",
   "execution_count": null,
   "metadata": {},
   "outputs": [],
   "source": []
  },
  {
   "cell_type": "code",
   "execution_count": null,
   "metadata": {},
   "outputs": [],
   "source": []
  },
  {
   "cell_type": "code",
   "execution_count": null,
   "metadata": {},
   "outputs": [],
   "source": []
  }
 ],
 "metadata": {
  "kernelspec": {
   "name": "python3",
   "display_name": "Python 3.7.3 64-bit"
  },
  "language_info": {
   "codemirror_mode": {
    "name": "ipython",
    "version": 3
   },
   "file_extension": ".py",
   "mimetype": "text/x-python",
   "name": "python",
   "nbconvert_exporter": "python",
   "pygments_lexer": "ipython3",
   "version": "3.7.3"
  },
  "interpreter": {
   "hash": "9aef171ef4fecf6bb19c96f85d26eb5454d43488c335f826797a34f29f2423e6"
  }
 },
 "nbformat": 4,
 "nbformat_minor": 4
}
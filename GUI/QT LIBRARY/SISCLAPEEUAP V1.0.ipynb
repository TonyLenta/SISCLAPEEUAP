{
 "cells": [
  {
   "cell_type": "code",
   "execution_count": 1,
   "metadata": {},
   "outputs": [],
   "source": [
    "# ----------------------------------------------------------------------------\n",
    "# Nombre:       SISCLAPEEUAP.py\n",
    "# Autor:        Anthony Sánchez Guashpa\n",
    "# Correo:       anthony.sanchez@pucese.edu.ec\n",
    "# Creado:       04 de Enero 2021\n",
    "# Modificado:   16 de Mayo 2021\n",
    "# Copyright:    \n",
    "# License:      Apache License 2.0\n",
    "# ----------------------------------------------------------------------------\n",
    "# Versión Python: 3.6.0\n",
    "# Versión PyQt5: 5.11.3"
   ]
  },
  {
   "cell_type": "code",
   "execution_count": 3,
   "metadata": {},
   "outputs": [],
   "source": [
    "from random import randint\n",
    "\n",
    "from PyQt5.QtGui import QIcon, QFont, QPalette, QImage, QPixmap\n",
    "from PyQt5.QtCore import (Qt, QDir, QFile, QFileInfo, QPropertyAnimation, QRect,\n",
    "                          QAbstractAnimation, QTranslator, QLocale, QLibraryInfo)\n",
    "from PyQt5.QtWidgets import (QApplication, QMainWindow, QWidget, QPushButton, QMessageBox,\n",
    "                             QFrame, QLabel, QFileDialog)\n"
   ]
  },
  {
   "cell_type": "code",
   "execution_count": 5,
   "metadata": {},
   "outputs": [],
   "source": [
    "\n",
    "# Creacion de clase para los Widgets\n",
    "\n",
    "class Widgets(QWidget):\n",
    "    def __init__(self, parent=None):\n",
    "        super(Widgets, self).__init__(parent)\n",
    "\n",
    "        self.parent = parent\n",
    "        \n",
    "        self.initUI()\n",
    "\n",
    "#Inicializacion de GUI        \n",
    "    def initUI(self):\n",
    "         # ======================== WIDGETS ===========================\n",
    "\n",
    "        framePrincipal = QFrame(self)\n",
    "        framePrincipal.setFrameShape(QFrame.Box)\n",
    "        framePrincipal.setFrameShadow(QFrame.Sunken)\n",
    "        framePrincipal.setAutoFillBackground(True)\n",
    "        framePrincipal.setBackgroundRole(QPalette.Light)\n",
    "        framePrincipal.setFixedSize(662, 503)\n",
    "        framePrincipal.move(10, 10)\n",
    "\n",
    "        frame = QFrame(framePrincipal)\n",
    "        frame.setFixedSize(640, 480)\n",
    "        frame.move(10, 10)\n",
    "\n",
    "        self.labelImagen = QLabel(frame)\n",
    "        self.labelImagen.setAlignment(Qt.AlignCenter)\n",
    "        self.labelImagen.setGeometry(0, 0, 640, 480)\n",
    "        # self.labelImagen.setScaledContents(True)\n",
    "\n",
    "        self.labelImagenUno = QLabel(frame)\n",
    "        self.labelImagenUno.setAlignment(Qt.AlignCenter)\n",
    "        self.labelImagenUno.setGeometry(-650, 0, 640, 480)\n"
   ]
  },
  {
   "cell_type": "code",
   "execution_count": null,
   "metadata": {},
   "outputs": [],
   "source": []
  },
  {
   "cell_type": "code",
   "execution_count": null,
   "metadata": {},
   "outputs": [],
   "source": []
  }
 ],
 "metadata": {
  "kernelspec": {
   "display_name": "Python 3",
   "language": "python",
   "name": "python3"
  },
  "language_info": {
   "codemirror_mode": {
    "name": "ipython",
    "version": 3
   },
   "file_extension": ".py",
   "mimetype": "text/x-python",
   "name": "python",
   "nbconvert_exporter": "python",
   "pygments_lexer": "ipython3",
   "version": "3.7.3"
  }
 },
 "nbformat": 4,
 "nbformat_minor": 4
}
